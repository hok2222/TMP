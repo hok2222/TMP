{
 "cells": [
  {
   "cell_type": "code",
   "execution_count": 1,
   "id": "41fc7f30",
   "metadata": {},
   "outputs": [],
   "source": [
    "import itertools"
   ]
  },
  {
   "cell_type": "markdown",
   "id": "14c95fcb",
   "metadata": {},
   "source": [
    "# Фильтрация группы элементов"
   ]
  },
  {
   "cell_type": "markdown",
   "id": "2163f67b",
   "metadata": {},
   "source": [
    "## Выбор способа добраться до места:"
   ]
  },
  {
   "cell_type": "code",
   "execution_count": 4,
   "id": "7b306737",
   "metadata": {},
   "outputs": [],
   "source": [
    "kudago = ['навигатор', 'по указателям', 'как нутро подскажет', 'спросить прохожего', 'я точно знаю куда идти']\n",
    "myhome = [True, False, True, False, True]\n",
    "new_lake_forest = [True, True, False, True, False]\n",
    "familiar_lake_forest = [False, False, False, False, True]\n",
    "my_university = [True, False, False, True, True]"
   ]
  },
  {
   "cell_type": "markdown",
   "id": "bfc7f3ef",
   "metadata": {},
   "source": [
    "как дойти домой"
   ]
  },
  {
   "cell_type": "code",
   "execution_count": 5,
   "id": "9f0632af",
   "metadata": {},
   "outputs": [
    {
     "data": {
      "text/plain": [
       "['навигатор', 'как нутро подскажет', 'я точно знаю куда идти']"
      ]
     },
     "execution_count": 5,
     "metadata": {},
     "output_type": "execute_result"
    }
   ],
   "source": [
    "list(itertools.compress(kudago, myhome))"
   ]
  },
  {
   "cell_type": "markdown",
   "id": "aa6ddae2",
   "metadata": {},
   "source": [
    "как поплавать в озере в неизвестном лесу"
   ]
  },
  {
   "cell_type": "code",
   "execution_count": 6,
   "id": "f42599fc",
   "metadata": {},
   "outputs": [
    {
     "data": {
      "text/plain": [
       "['навигатор', 'по указателям', 'спросить прохожего']"
      ]
     },
     "execution_count": 6,
     "metadata": {},
     "output_type": "execute_result"
    }
   ],
   "source": [
    "list(itertools.compress(kudago, new_lake_forest))"
   ]
  },
  {
   "cell_type": "markdown",
   "id": "0421a272",
   "metadata": {},
   "source": [
    "как найти озеро в лесу около дома"
   ]
  },
  {
   "cell_type": "code",
   "execution_count": 7,
   "id": "30f569d3",
   "metadata": {},
   "outputs": [
    {
     "data": {
      "text/plain": [
       "['я точно знаю куда идти']"
      ]
     },
     "execution_count": 7,
     "metadata": {},
     "output_type": "execute_result"
    }
   ],
   "source": [
    "list(itertools.compress(kudago, familiar_lake_forest))"
   ]
  },
  {
   "cell_type": "markdown",
   "id": "fb22f304",
   "metadata": {},
   "source": [
    "как доехать до места учёбы"
   ]
  },
  {
   "cell_type": "code",
   "execution_count": 8,
   "id": "380a54c1",
   "metadata": {},
   "outputs": [
    {
     "data": {
      "text/plain": [
       "['навигатор', 'спросить прохожего', 'я точно знаю куда идти']"
      ]
     },
     "execution_count": 8,
     "metadata": {},
     "output_type": "execute_result"
    }
   ],
   "source": [
    "list(itertools.compress(kudago, my_university))"
   ]
  },
  {
   "cell_type": "markdown",
   "id": "e6518c7d",
   "metadata": {},
   "source": [
    "# "
   ]
  }
 ],
 "metadata": {
  "kernelspec": {
   "display_name": "Python 3 (ipykernel)",
   "language": "python",
   "name": "python3"
  },
  "language_info": {
   "codemirror_mode": {
    "name": "ipython",
    "version": 3
   },
   "file_extension": ".py",
   "mimetype": "text/x-python",
   "name": "python",
   "nbconvert_exporter": "python",
   "pygments_lexer": "ipython3",
   "version": "3.9.13"
  }
 },
 "nbformat": 4,
 "nbformat_minor": 5
}
